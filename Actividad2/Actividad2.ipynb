{
  "nbformat": 4,
  "nbformat_minor": 0,
  "metadata": {
    "colab": {
      "name": "Actividad2.ipynb",
      "provenance": [],
      "collapsed_sections": []
    },
    "kernelspec": {
      "name": "python3",
      "display_name": "Python 3"
    }
  },
  "cells": [
    {
      "cell_type": "markdown",
      "metadata": {
        "id": "xkiKJ_Id42mK"
      },
      "source": [
        "### Se proporciona el siguiente programa para calcular el área de un rectángulo: \r\n",
        "\r\n"
      ]
    },
    {
      "cell_type": "code",
      "metadata": {
        "id": "PRG9XkFf5Aww"
      },
      "source": [
        "#Aqui ingresamos las bibliotecas\r\n",
        "import numpy as np"
      ],
      "execution_count": null,
      "outputs": []
    },
    {
      "cell_type": "code",
      "metadata": {
        "colab": {
          "base_uri": "https://localhost:8080/"
        },
        "id": "uXZoN1Rk5S9k",
        "outputId": "dfee0aba-8cce-4a28-dba1-0292aa54aace"
      },
      "source": [
        "# Se define una función de 2 variables para calcular el área.  \r\n",
        "def area(x, y):\r\n",
        "    return x*y\r\n",
        "\r\n",
        "print(\"Proporciona el largo y altura del rectángulo: \", end=\"\")\r\n",
        "l = float(input())\r\n",
        "h = float(input())\r\n",
        "a = area(l, h)\r\n",
        "# Imprime el valor del área en formato libre.\r\n",
        "print(\"\\nArea = \", a)"
      ],
      "execution_count": null,
      "outputs": [
        {
          "output_type": "stream",
          "text": [
            "Proporciona el largo y altura del rectángulo: 2\n",
            "3\n",
            "\n",
            "Area =  6.0\n"
          ],
          "name": "stdout"
        }
      ]
    },
    {
      "cell_type": "markdown",
      "metadata": {
        "id": "fe-oQ_z4I8_J"
      },
      "source": [
        "# **Ejercicio 1**"
      ]
    },
    {
      "cell_type": "markdown",
      "metadata": {
        "id": "uvxdaTQs962m"
      },
      "source": [
        "#Usando este ejemplo, modifícalo para calcular:\r\n",
        "\r\n",
        "\r\n",
        "*   Área de un círculo y una elipse.\r\n",
        "*   Volumen de una esfera y el de un cilindro circular.\r\n",
        "\r\n"
      ]
    },
    {
      "cell_type": "markdown",
      "metadata": {
        "id": "q716Lt42-60l"
      },
      "source": [
        "### **Se calculará el área de un círculo el cual sería**\r\n",
        "$$A_{circulo}=\\pi\\cdot r^2$$"
      ]
    },
    {
      "cell_type": "code",
      "metadata": {
        "colab": {
          "base_uri": "https://localhost:8080/"
        },
        "id": "wZgxHtJn-1J5",
        "outputId": "6bf6480a-a0a7-4317-8f44-50eb10160d4a"
      },
      "source": [
        "# Se define una función de 1 variable para calcular el área del círculo.  \r\n",
        "def area(x):\r\n",
        "    return np.pi*x**2\r\n",
        "\r\n",
        "print(\"Proporciona el radio del círculo: \", end=\"\")\r\n",
        "r = float(input())\r\n",
        "a = area(r)\r\n",
        "# Imprime el valor del área en formato libre.\r\n",
        "print(\"\\nArea = \", a)"
      ],
      "execution_count": null,
      "outputs": [
        {
          "output_type": "stream",
          "text": [
            "Proporciona el radio del círculo: 2\n",
            "\n",
            "Area =  12.566370614359172\n"
          ],
          "name": "stdout"
        }
      ]
    },
    {
      "cell_type": "markdown",
      "metadata": {
        "id": "ogzmsrNHAj52"
      },
      "source": [
        "### **Se calculará el área de una elipse el cual sería**\r\n",
        "$$A_{elipse}=\\pi\\cdot a\\cdot b$$"
      ]
    },
    {
      "cell_type": "code",
      "metadata": {
        "colab": {
          "base_uri": "https://localhost:8080/"
        },
        "id": "2K9Xt_gtAe3X",
        "outputId": "fe07a67d-acc0-43e5-9b09-19fa0973caa6"
      },
      "source": [
        "# Se define una función de 2 variables para calcular el área de la elipse.  \r\n",
        "def area(x, y):\r\n",
        "    return np.pi*x*y\r\n",
        "\r\n",
        "print(\"Proporciona el semieje mayor y menor de la elipse: \", end=\"\")\r\n",
        "b = float(input())\r\n",
        "c = float(input())\r\n",
        "a = area(b,c)\r\n",
        "# Imprime el valor del área en formato libre.\r\n",
        "print(\"\\nArea = \", a)"
      ],
      "execution_count": null,
      "outputs": [
        {
          "output_type": "stream",
          "text": [
            "Proporciona el semieje mayor y menor de la elipse: 2\n",
            "3\n",
            "\n",
            "Area =  18.84955592153876\n"
          ],
          "name": "stdout"
        }
      ]
    },
    {
      "cell_type": "markdown",
      "metadata": {
        "id": "gxuzCJ9Rcska"
      },
      "source": [
        "### **Se calculará el volumen de una esfera el cual sería**\r\n",
        "$$V_{esfera}=\\frac{4}{3}\\cdot \\pi\\cdot r^3$$"
      ]
    },
    {
      "cell_type": "code",
      "metadata": {
        "colab": {
          "base_uri": "https://localhost:8080/"
        },
        "id": "TvEUlJpuc5Fl",
        "outputId": "59812c93-7b13-45f6-ffd3-a678fda8cc15"
      },
      "source": [
        "# Se define una función de 1 variable para calcular el volumen de una esfera.\r\n",
        "def volumen(x):\r\n",
        "    return (4*np.pi*x**3)/3\r\n",
        "\r\n",
        "print(\"Proporciona el radio de la esfera:\", end=\"\")\r\n",
        "r = float(input())\r\n",
        "v = volumen(r)\r\n",
        "# Imprime el valor del volumen en formato libre.\r\n",
        "print(\"\\nVolumen = \", v)"
      ],
      "execution_count": null,
      "outputs": [
        {
          "output_type": "stream",
          "text": [
            "Proporciona el radio de la esfera:2\n",
            "\n",
            "Volumen =  33.510321638291124\n"
          ],
          "name": "stdout"
        }
      ]
    },
    {
      "cell_type": "markdown",
      "metadata": {
        "id": "IJdhfAv7BhBw"
      },
      "source": [
        "### **Se calculará el volumen de un cilindro circular el cual sería**\r\n",
        "$$V_{cilindro}=\\pi\\cdot r^2\\cdot h$$"
      ]
    },
    {
      "cell_type": "code",
      "metadata": {
        "colab": {
          "base_uri": "https://localhost:8080/"
        },
        "id": "U1OdPANABxEA",
        "outputId": "1d985e57-b0c4-4d84-8efa-760edbd69402"
      },
      "source": [
        "# Se define una función de 2 variable para calcular el volumen de una cilindro circular.\r\n",
        "def volumen(x,y):\r\n",
        "    return np.pi*x**2*y\r\n",
        "\r\n",
        "print(\"Proporciona el radio de la base y la altura del cilindro:\", end=\"\")\r\n",
        "r = float(input())\r\n",
        "h = float(input())\r\n",
        "v = volumen(r,h)\r\n",
        "# Imprime el valor del volumen en formato libre.\r\n",
        "print(\"\\nVolumen = \", v)"
      ],
      "execution_count": null,
      "outputs": [
        {
          "output_type": "stream",
          "text": [
            "Proporciona el radio de la base y la altura del cilindro:2\n",
            "3\n",
            "\n",
            "Volumen =  37.69911184307752\n"
          ],
          "name": "stdout"
        }
      ]
    },
    {
      "cell_type": "markdown",
      "metadata": {
        "id": "-QdOlDM9ZiLB"
      },
      "source": [
        "# **Ejercicio 2**"
      ]
    },
    {
      "cell_type": "markdown",
      "metadata": {
        "id": "TAxzMpWaZxBC"
      },
      "source": [
        "### Desarrollar un programa en Python que calcule las raíces de una ecuación cuadrática. "
      ]
    },
    {
      "cell_type": "markdown",
      "metadata": {
        "id": "eIpjzWviaP7b"
      },
      "source": [
        "Una ecuación cuadrática se puede escribir como $ax^2+bx+c=0$, encontraremos sus raíces con la fórmula general:\r\n",
        "$$x=\\frac{-b\\pm\\sqrt{b^2-4ac}}{2a}$$"
      ]
    },
    {
      "cell_type": "code",
      "metadata": {
        "colab": {
          "base_uri": "https://localhost:8080/"
        },
        "id": "10sty_xmakDr",
        "outputId": "5dccdf46-b538-439c-a188-289bbfdeed9e"
      },
      "source": [
        "# Se define una función de 3 variable para calcular las raíces de una ecuación cuadrática.\r\n",
        "\r\n",
        "print(\"Proporciona el coeficiente que acompaña el valor cuadrático:\", end=\"\")\r\n",
        "a = float(input())\r\n",
        "print(\"Proporciona el coeficiente que acompaña el valor lineal:\", end=\"\")\r\n",
        "b = float(input())\r\n",
        "print(\"Proporciona el término independiente:\", end=\"\")\r\n",
        "c = float(input())\r\n",
        "\r\n",
        "if (b**2-4*a*c) < 0 :\r\n",
        "  print(\"Las raíces de la ecuación cuadrática son números complejos.\")\r\n",
        "else:\r\n",
        "  x1 = (-b+np.sqrt(b**2-4*a*c))/(2*a)\r\n",
        "  x2 = (-b-np.sqrt(b**2-4*a*c))/(2*a)\r\n",
        "# Imprime el valor de las raíces en formato libre.\r\n",
        "  print(\"\\nRaíz 1 = \", x1)\r\n",
        "  print(\"\\nRaíz 2 = \", x2)"
      ],
      "execution_count": null,
      "outputs": [
        {
          "output_type": "stream",
          "text": [
            "Proporciona el coeficiente que acompaña el valor cuadrático:3\n",
            "Proporciona el coeficiente que acompaña el valor lineal:5\n",
            "Proporciona el término independiente:-3\n",
            "\n",
            "Raíz 1 =  0.46837494598444235\n",
            "\n",
            "Raíz 2 =  -2.135041612651109\n"
          ],
          "name": "stdout"
        }
      ]
    },
    {
      "cell_type": "markdown",
      "metadata": {
        "id": "bZSW6M6R-QUL"
      },
      "source": [
        "# **Ejercicio 3**"
      ]
    },
    {
      "cell_type": "markdown",
      "metadata": {
        "id": "NzZWDINq-XX7"
      },
      "source": [
        "### Implementar el método Babilonio (o Método de Herón), para calcular la raíz cuadrada de un número S, cuando la sucesión converja con un error menor a 0.01. Compare con el valor obtenido por el método Babilonio con el valor de la función np.sqrt(S)."
      ]
    },
    {
      "cell_type": "markdown",
      "metadata": {
        "id": "SEJpxelW-wZ_"
      },
      "source": [
        "$$x_0\\approx \\sqrt{S}$$"
      ]
    },
    {
      "cell_type": "markdown",
      "metadata": {
        "id": "JZzH_OFbbNTZ"
      },
      "source": [
        "$$x_{n+1}=\\frac{1}{2}\\left( x_n+\\frac{S}{x_n}\\right)$$"
      ]
    },
    {
      "cell_type": "markdown",
      "metadata": {
        "id": "Xdzu2t9UbPW-"
      },
      "source": [
        "$$\\sqrt{S}=\\lim\\limits_{n\\rightarrow\\infty}x_n$$"
      ]
    },
    {
      "cell_type": "code",
      "metadata": {
        "colab": {
          "base_uri": "https://localhost:8080/"
        },
        "id": "kf6GW1sP-4BS",
        "outputId": "4d7d55c1-fe45-41db-f8aa-00517fe4db48"
      },
      "source": [
        "# Se define una función de 2 variable para calcular la raíz de un número S.\r\n",
        "\r\n",
        "print(\"Proporciona el número S al que le calcularás su raíz cuadrada:\", end=\"\")\r\n",
        "S = float(input())\r\n",
        "print(\"Proporciona el número x0 que es el aproximado a la raíz cuadrada de S:\", end=\"\")\r\n",
        "x0 = float(input())\r\n",
        "\r\n",
        "for i in range(1000): #comienza en 0 e incrementa 1\r\n",
        "  if abs(x0-np.sqrt(S)) < 0.01:\r\n",
        "    print(\"La aproximacipon a la raíz cuadrada del número\", S,\"es igual a\", x0)\r\n",
        "    break\r\n",
        "  else:\r\n",
        "    xi=(x0+S/x0)/2\r\n",
        "    x0=xi"
      ],
      "execution_count": null,
      "outputs": [
        {
          "output_type": "stream",
          "text": [
            "Proporciona el número S al que le calcularás su raíz cuadrada:15729\n",
            "Proporciona el número x0 que es el aproximado a la raíz cuadrada de S:125\n",
            "La aproximacipon a la raíz cuadrada del número 15729.0 es igual a 125.416\n"
          ],
          "name": "stdout"
        }
      ]
    },
    {
      "cell_type": "markdown",
      "metadata": {
        "id": "qzetGjzG0Qgi"
      },
      "source": [
        "# **Ejercicio 4**"
      ]
    },
    {
      "cell_type": "markdown",
      "metadata": {
        "id": "haoDGkiW0x58"
      },
      "source": [
        "### Reproduce la figura que aparece inmediatamente abajo en el artículo de Wikipedia sobre Series de Taylor, que muestra la aproximación de la función $ln(1+x)$ alrededor de $x=0$."
      ]
    },
    {
      "cell_type": "markdown",
      "metadata": {
        "id": "fXtAkf3f1BBQ"
      },
      "source": [
        "$$ln(1+x)=\\displaystyle\\sum_{n=1}^\\infty (-1)^{n+1} \\frac{x^n}{n}=x-\\frac{x^2}{2}+\\frac{x^3}{3}-\\cdots \\ \\ \\text{para} -1\\geq x\\geq 1$$"
      ]
    },
    {
      "cell_type": "code",
      "metadata": {
        "id": "f8w6JRqsT4ec"
      },
      "source": [
        "# Cargar la subbiblioteca pytlot de Matplotlib \r\n",
        "\r\n",
        "import matplotlib.pyplot as plt\r\n",
        "import numpy as np \r\n",
        "from sympy.functions import ln\r\n",
        "import sympy as sp"
      ],
      "execution_count": 2,
      "outputs": []
    },
    {
      "cell_type": "code",
      "metadata": {
        "colab": {
          "base_uri": "https://localhost:8080/",
          "height": 365
        },
        "id": "Dh1gQtiAVsew",
        "outputId": "f576596f-2c0b-45e6-957d-d2216c28217c"
      },
      "source": [
        "print(\"Este programa calcula los valores de la serie de taylor para n términos.\")\r\n",
        "x = sp.Symbol('x')\r\n",
        "y = sp.Symbol('y')\r\n",
        "f = ln(x+1)\r\n",
        "def taylor(p,x0,n):\r\n",
        "  i = 1\r\n",
        "  p = 0\r\n",
        "  while i <= n:\r\n",
        "    p = p + ((-1)**(i+1))*((x**i)/i)\r\n",
        "    i += 1\r\n",
        "  return p\r\n",
        "print (taylor(y,0,4))\r\n",
        "\r\n",
        "x = np.linspace(-1.5,1.5,100)\r\n",
        "y = np.log(x+1)\r\n",
        "\r\n",
        "plt.subplot(111)\r\n",
        "plt.xlabel(\"x\")\r\n",
        "plt.ylabel(\"y\")\r\n",
        "plt.title(\"Gráfica de la función ln(x+1)\")\r\n",
        "\r\n",
        "plt.plot(x,y, label=\"ln(x+1)\")\r\n",
        "plt.plot(x,taylor(f,0,4), label=\"T4\")\r\n",
        "plt.plot(x,taylor(f,0,7), label=\"T7\")\r\n",
        "plt.plot(x,taylor(f,0,11), label=\"T11\")\r\n",
        "plt.plot(x,taylor(f,0,16), label=\"T16\")\r\n",
        "\r\n",
        "plt.grid(True)\r\n",
        "\r\n",
        "plt.ylim(-4,2)\r\n",
        "\r\n",
        "plt.legend(bbox_to_anchor=(1,1), loc=\"best\")\r\n",
        "\r\n",
        "plt.show()"
      ],
      "execution_count": 6,
      "outputs": [
        {
          "output_type": "stream",
          "text": [
            "Este programa calcula los valores de la serie de taylor para n términos.\n",
            "-x**4/4 + x**3/3 - x**2/2 + x\n"
          ],
          "name": "stdout"
        },
        {
          "output_type": "stream",
          "text": [
            "/usr/local/lib/python3.6/dist-packages/ipykernel_launcher.py:15: RuntimeWarning: invalid value encountered in log\n",
            "  from ipykernel import kernelapp as app\n"
          ],
          "name": "stderr"
        },
        {
          "output_type": "display_data",
          "data": {
            "image/png": "[encoded data removed]",
            "text/plain": [
              "<Figure size 432x288 with 1 Axes>"
            ]
          },
          "metadata": {
            "tags": [],
            "needs_background": "light"
          }
        }
      ]
    },
    {
      "cell_type": "code",
      "metadata": {
        "id": "129JsS4jT_lE"
      },
      "source": [
        ""
      ],
      "execution_count": null,
      "outputs": []
    }
  ]
}