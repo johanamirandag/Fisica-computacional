{
  "nbformat": 4,
  "nbformat_minor": 0,
  "metadata": {
    "colab": {
      "name": "Actividad3.ipynb",
      "provenance": []
    },
    "kernelspec": {
      "name": "python3",
      "display_name": "Python 3"
    }
  },
  "cells": [
    {
      "cell_type": "code",
      "metadata": {
        "id": "FnAk6Jcy0ThP"
      },
      "source": [
        "#Aqui ingresamos las bibliotecas\r\n",
        "import numpy as np\r\n",
        "import pandas as pd"
      ],
      "execution_count": 3,
      "outputs": []
    },
    {
      "cell_type": "markdown",
      "metadata": {
        "id": "iiMwMtZ-Gtnp"
      },
      "source": [
        "## **Actividad 3**"
      ]
    },
    {
      "cell_type": "markdown",
      "metadata": {
        "id": "0aQauJ-UscmC"
      },
      "source": [
        "### **Paso 1.** Abre un nuevo cuaderno de trabajo Jupyter en Google Colab, llamado Actividad3. Carga las bibliotecas Numpy y Pandas. Enseguida define un nuevo DataFrame df con la ayuda de la función de Pandas pd.read_csv, leyendo el archivo csv con los datos climatológicos de la estación meteorológica que has seleccionado para estas actividades y que has almacenado en tu repositorio en Github."
      ]
    },
    {
      "cell_type": "code",
      "metadata": {
        "id": "a9I8R3D8FSSG"
      },
      "source": [
        "# Tomar la dirección URL del archivo en formato 'raw'\r\n",
        "url = 'https://raw.githubusercontent.com/johanamirandag/Fisica-computacional/main/Actividad1/AguaPrieta26192.txt'\r\n",
        "\r\n",
        "# Definimos los nombres de las columnas\r\n",
        "# El archivo tiene códigos ASCII extendido (Español), encoding='cp1251' Windows (Europa Occidental)\r\n",
        "# El separador de datos es de uno o más espacios, sep='\\s+'\r\n",
        "# Se brincará los primeros 19 renglones y el último, afirmamos que no nay encabezado\r\n",
        "# Se procesan los datos utilizando Python, engine='python' \r\n",
        "my_cols = ['Fecha', 'Precip', 'Evap', 'Tmax', 'Tmin']\r\n",
        "df_distribucion = pd.read_csv(url, names=my_cols, encoding='cp1251', sep='\\s+', header=None, skiprows=19, skipfooter=1, engine='python')"
      ],
      "execution_count": 4,
      "outputs": []
    },
    {
      "cell_type": "markdown",
      "metadata": {
        "id": "YYGlqqtesifN"
      },
      "source": [
        "### **Paso 2.** Una vez que hayas leído tu archivo de datos, usa la función df.head(n) y df.tail(n), y estudia la estructura de tu archivo, para determinar que renglones trae la información de los nombres de las columnas y en qué número de renglón comienzan los datos. Lo que buscamos es quedarnos con un DataFrame con los nombres de las columnas en el primer renglón y el resto de renglones serán sólo datos diarios de la estación meteorológica. "
      ]
    },
    {
      "cell_type": "code",
      "metadata": {
        "colab": {
          "base_uri": "https://localhost:8080/"
        },
        "id": "pHB0GEVOs-YQ",
        "outputId": "99e8e0e6-c5c3-4914-9019-4a04c1189d68"
      },
      "source": [
        "# Revisamos el encabezado y el final del dataframe\r\n",
        "print(df_distribucion.head())\r\n",
        "print(df_distribucion.tail())"
      ],
      "execution_count": 5,
      "outputs": [
        {
          "output_type": "stream",
          "text": [
            "        Fecha Precip  Evap Tmax Tmin\n",
            "0  01/07/1975    8.5   8.6   36   25\n",
            "1  02/07/1975    5.8   5.8   36   24\n",
            "2  03/07/1975      0   9.8   35   23\n",
            "3  04/07/1975      0  10.4   36   25\n",
            "4  05/07/1975      0   6.6   37   26\n",
            "            Fecha Precip  Evap  Tmax Tmin\n",
            "11789  26/04/2016      0  Nulo    25    7\n",
            "11790  27/04/2016      0  Nulo    27    3\n",
            "11791  28/04/2016      0  Nulo    25   12\n",
            "11792  29/04/2016      0  Nulo    25    4\n",
            "11793  30/04/2016      0  Nulo  Nulo    5\n"
          ],
          "name": "stdout"
        }
      ]
    },
    {
      "cell_type": "markdown",
      "metadata": {
        "id": "Ch1UGR40F0xb"
      },
      "source": [
        "### **Paso 3.** Enseguida se pide explorar el dataframe recién cargado a la memoria. Para esto, se pide hacer una bitácora anotando o agregando un comentario de las acciones desarrolladas."
      ]
    },
    {
      "cell_type": "markdown",
      "metadata": {
        "id": "hyCOpwOmGCFr"
      },
      "source": [
        "*   Imprime el encabezado y final del dataframe:\r\n",
        "\r\n"
      ]
    },
    {
      "cell_type": "code",
      "metadata": {
        "colab": {
          "base_uri": "https://localhost:8080/"
        },
        "id": "asTaTjPgCxl5",
        "outputId": "3ff2898b-abaa-44f6-91d9-d530bd28c860"
      },
      "source": [
        "# Revisamos el encabezado y el final del dataframe\r\n",
        "print(df_distribucion.head(10))\r\n",
        "print(df_distribucion.tail(10))"
      ],
      "execution_count": 6,
      "outputs": [
        {
          "output_type": "stream",
          "text": [
            "        Fecha Precip  Evap Tmax Tmin\n",
            "0  01/07/1975    8.5   8.6   36   25\n",
            "1  02/07/1975    5.8   5.8   36   24\n",
            "2  03/07/1975      0   9.8   35   23\n",
            "3  04/07/1975      0  10.4   36   25\n",
            "4  05/07/1975      0   6.6   37   26\n",
            "5  06/07/1975    1.1   8.8   34   24\n",
            "6  07/07/1975      0   5.9   35   24\n",
            "7  08/07/1975      0  10.7   37   24\n",
            "8  09/07/1975    1.5  10.5   37   25\n",
            "9  10/07/1975      0  10.7   37   24\n",
            "            Fecha Precip  Evap  Tmax Tmin\n",
            "11784  21/04/2016      0  Nulo    32    4\n",
            "11785  22/04/2016      0  Nulo    33    7\n",
            "11786  23/04/2016      0  Nulo    30    9\n",
            "11787  24/04/2016      0  Nulo    28    9\n",
            "11788  25/04/2016      0  Nulo    29    8\n",
            "11789  26/04/2016      0  Nulo    25    7\n",
            "11790  27/04/2016      0  Nulo    27    3\n",
            "11791  28/04/2016      0  Nulo    25   12\n",
            "11792  29/04/2016      0  Nulo    25    4\n",
            "11793  30/04/2016      0  Nulo  Nulo    5\n"
          ],
          "name": "stdout"
        }
      ]
    },
    {
      "cell_type": "markdown",
      "metadata": {
        "id": "rsw92CfiGH0e"
      },
      "source": [
        "* ¿Qué dimensiones tiene tu dataframe?"
      ]
    },
    {
      "cell_type": "code",
      "metadata": {
        "colab": {
          "base_uri": "https://localhost:8080/"
        },
        "id": "BjF6FRvPC2Cf",
        "outputId": "533cb81d-79fc-4809-c864-7cdbbdb05219"
      },
      "source": [
        "df_distribucion.shape"
      ],
      "execution_count": 7,
      "outputs": [
        {
          "output_type": "execute_result",
          "data": {
            "text/plain": [
              "(11794, 5)"
            ]
          },
          "metadata": {
            "tags": []
          },
          "execution_count": 7
        }
      ]
    },
    {
      "cell_type": "markdown",
      "metadata": {
        "id": "4U-WTkzhGSKO"
      },
      "source": [
        "* ¿Cómo es el contenido de tu dataframe?"
      ]
    },
    {
      "cell_type": "code",
      "metadata": {
        "colab": {
          "base_uri": "https://localhost:8080/"
        },
        "id": "ZFeOemYfFOZd",
        "outputId": "0794b6a1-a38e-4dd0-8fc9-6a6c2a13fe67"
      },
      "source": [
        "df_distribucion.info()"
      ],
      "execution_count": 8,
      "outputs": [
        {
          "output_type": "stream",
          "text": [
            "<class 'pandas.core.frame.DataFrame'>\n",
            "RangeIndex: 11794 entries, 0 to 11793\n",
            "Data columns (total 5 columns):\n",
            " #   Column  Non-Null Count  Dtype \n",
            "---  ------  --------------  ----- \n",
            " 0   Fecha   11794 non-null  object\n",
            " 1   Precip  11794 non-null  object\n",
            " 2   Evap    11794 non-null  object\n",
            " 3   Tmax    11794 non-null  object\n",
            " 4   Tmin    11794 non-null  object\n",
            "dtypes: object(5)\n",
            "memory usage: 460.8+ KB\n"
          ],
          "name": "stdout"
        }
      ]
    },
    {
      "cell_type": "code",
      "metadata": {
        "colab": {
          "base_uri": "https://localhost:8080/",
          "height": 197
        },
        "id": "LMFFJ3OyipfN",
        "outputId": "2d489548-bdf9-4594-e635-a2e3d2b38237"
      },
      "source": [
        "# Hacemos una copia de trabajo y preservamos el dataframe original\r\n",
        "df_trabajo0 = df_distribucion.copy()\r\n",
        "df_trabajo0.head()"
      ],
      "execution_count": 9,
      "outputs": [
        {
          "output_type": "execute_result",
          "data": {
            "text/html": [
              "<div>\n",
              "<style scoped>\n",
              "    .dataframe tbody tr th:only-of-type {\n",
              "        vertical-align: middle;\n",
              "    }\n",
              "\n",
              "    .dataframe tbody tr th {\n",
              "        vertical-align: top;\n",
              "    }\n",
              "\n",
              "    .dataframe thead th {\n",
              "        text-align: right;\n",
              "    }\n",
              "</style>\n",
              "<table border=\"1\" class=\"dataframe\">\n",
              "  <thead>\n",
              "    <tr style=\"text-align: right;\">\n",
              "      <th></th>\n",
              "      <th>Fecha</th>\n",
              "      <th>Precip</th>\n",
              "      <th>Evap</th>\n",
              "      <th>Tmax</th>\n",
              "      <th>Tmin</th>\n",
              "    </tr>\n",
              "  </thead>\n",
              "  <tbody>\n",
              "    <tr>\n",
              "      <th>0</th>\n",
              "      <td>01/07/1975</td>\n",
              "      <td>8.5</td>\n",
              "      <td>8.6</td>\n",
              "      <td>36</td>\n",
              "      <td>25</td>\n",
              "    </tr>\n",
              "    <tr>\n",
              "      <th>1</th>\n",
              "      <td>02/07/1975</td>\n",
              "      <td>5.8</td>\n",
              "      <td>5.8</td>\n",
              "      <td>36</td>\n",
              "      <td>24</td>\n",
              "    </tr>\n",
              "    <tr>\n",
              "      <th>2</th>\n",
              "      <td>03/07/1975</td>\n",
              "      <td>0</td>\n",
              "      <td>9.8</td>\n",
              "      <td>35</td>\n",
              "      <td>23</td>\n",
              "    </tr>\n",
              "    <tr>\n",
              "      <th>3</th>\n",
              "      <td>04/07/1975</td>\n",
              "      <td>0</td>\n",
              "      <td>10.4</td>\n",
              "      <td>36</td>\n",
              "      <td>25</td>\n",
              "    </tr>\n",
              "    <tr>\n",
              "      <th>4</th>\n",
              "      <td>05/07/1975</td>\n",
              "      <td>0</td>\n",
              "      <td>6.6</td>\n",
              "      <td>37</td>\n",
              "      <td>26</td>\n",
              "    </tr>\n",
              "  </tbody>\n",
              "</table>\n",
              "</div>"
            ],
            "text/plain": [
              "        Fecha Precip  Evap Tmax Tmin\n",
              "0  01/07/1975    8.5   8.6   36   25\n",
              "1  02/07/1975    5.8   5.8   36   24\n",
              "2  03/07/1975      0   9.8   35   23\n",
              "3  04/07/1975      0  10.4   36   25\n",
              "4  05/07/1975      0   6.6   37   26"
            ]
          },
          "metadata": {
            "tags": []
          },
          "execution_count": 9
        }
      ]
    },
    {
      "cell_type": "markdown",
      "metadata": {
        "id": "sIFSGT2EGlmb"
      },
      "source": [
        "* Los datos originales incluyen la cadena de caracteres 'Nulo', indicando que no hubo datos para esa variable, ese día. Tenemos que reemplazar la palabra nulo con la función: df.replace()"
      ]
    },
    {
      "cell_type": "code",
      "metadata": {
        "colab": {
          "base_uri": "https://localhost:8080/",
          "height": 197
        },
        "id": "8ZyB5j_2GXq0",
        "outputId": "fa718d65-2d20-4cd1-c63f-c75bf4a5d49e"
      },
      "source": [
        "# Reemplazamos los textos 'Nulo' por espacio en blanco ''\r\n",
        "str_Nulo = 'Nulo'\r\n",
        "df_trabajo1 = df_trabajo0.replace(to_replace=str_Nulo, value='', regex=True)\r\n",
        "# Puse los últimos rengoles por que en los primeros no había datos \"Nulos\"\r\n",
        "df_trabajo1.tail()"
      ],
      "execution_count": 10,
      "outputs": [
        {
          "output_type": "execute_result",
          "data": {
            "text/html": [
              "<div>\n",
              "<style scoped>\n",
              "    .dataframe tbody tr th:only-of-type {\n",
              "        vertical-align: middle;\n",
              "    }\n",
              "\n",
              "    .dataframe tbody tr th {\n",
              "        vertical-align: top;\n",
              "    }\n",
              "\n",
              "    .dataframe thead th {\n",
              "        text-align: right;\n",
              "    }\n",
              "</style>\n",
              "<table border=\"1\" class=\"dataframe\">\n",
              "  <thead>\n",
              "    <tr style=\"text-align: right;\">\n",
              "      <th></th>\n",
              "      <th>Fecha</th>\n",
              "      <th>Precip</th>\n",
              "      <th>Evap</th>\n",
              "      <th>Tmax</th>\n",
              "      <th>Tmin</th>\n",
              "    </tr>\n",
              "  </thead>\n",
              "  <tbody>\n",
              "    <tr>\n",
              "      <th>11789</th>\n",
              "      <td>26/04/2016</td>\n",
              "      <td>0</td>\n",
              "      <td></td>\n",
              "      <td>25</td>\n",
              "      <td>7</td>\n",
              "    </tr>\n",
              "    <tr>\n",
              "      <th>11790</th>\n",
              "      <td>27/04/2016</td>\n",
              "      <td>0</td>\n",
              "      <td></td>\n",
              "      <td>27</td>\n",
              "      <td>3</td>\n",
              "    </tr>\n",
              "    <tr>\n",
              "      <th>11791</th>\n",
              "      <td>28/04/2016</td>\n",
              "      <td>0</td>\n",
              "      <td></td>\n",
              "      <td>25</td>\n",
              "      <td>12</td>\n",
              "    </tr>\n",
              "    <tr>\n",
              "      <th>11792</th>\n",
              "      <td>29/04/2016</td>\n",
              "      <td>0</td>\n",
              "      <td></td>\n",
              "      <td>25</td>\n",
              "      <td>4</td>\n",
              "    </tr>\n",
              "    <tr>\n",
              "      <th>11793</th>\n",
              "      <td>30/04/2016</td>\n",
              "      <td>0</td>\n",
              "      <td></td>\n",
              "      <td></td>\n",
              "      <td>5</td>\n",
              "    </tr>\n",
              "  </tbody>\n",
              "</table>\n",
              "</div>"
            ],
            "text/plain": [
              "            Fecha Precip Evap Tmax Tmin\n",
              "11789  26/04/2016      0        25    7\n",
              "11790  27/04/2016      0        27    3\n",
              "11791  28/04/2016      0        25   12\n",
              "11792  29/04/2016      0        25    4\n",
              "11793  30/04/2016      0              5"
            ]
          },
          "metadata": {
            "tags": []
          },
          "execution_count": 10
        }
      ]
    },
    {
      "cell_type": "markdown",
      "metadata": {
        "id": "nmbSDpigqHko"
      },
      "source": [
        "* Después habrá que convertir a número flotante o numérico los datos de Precipitación, Evaporación, Temperatura Máxima y Temperatura mínima utilizando la función: df.to_numeric()"
      ]
    },
    {
      "cell_type": "code",
      "metadata": {
        "colab": {
          "base_uri": "https://localhost:8080/"
        },
        "id": "cmpyHU8pqP0o",
        "outputId": "24668ccf-f1ba-4ad3-ae35-e0074b10c470"
      },
      "source": [
        "cols_list = ['Precip', 'Evap', 'Tmax', 'Tmin']\r\n",
        "for cols in cols_list:\r\n",
        "  df_trabajo1[cols] = pd.to_numeric(df_trabajo1[cols], errors='coerce')\r\n",
        "\r\n",
        "df_trabajo1.info()"
      ],
      "execution_count": 11,
      "outputs": [
        {
          "output_type": "stream",
          "text": [
            "<class 'pandas.core.frame.DataFrame'>\n",
            "RangeIndex: 11794 entries, 0 to 11793\n",
            "Data columns (total 5 columns):\n",
            " #   Column  Non-Null Count  Dtype  \n",
            "---  ------  --------------  -----  \n",
            " 0   Fecha   11794 non-null  object \n",
            " 1   Precip  11775 non-null  float64\n",
            " 2   Evap    2374 non-null   float64\n",
            " 3   Tmax    10788 non-null  float64\n",
            " 4   Tmin    10767 non-null  float64\n",
            "dtypes: float64(4), object(1)\n",
            "memory usage: 460.8+ KB\n"
          ],
          "name": "stdout"
        }
      ]
    },
    {
      "cell_type": "markdown",
      "metadata": {
        "id": "LYdhRT2Cpvr3"
      },
      "source": [
        "* Contrasta ahora la información de tu DataFrame con la función: df.info() "
      ]
    },
    {
      "cell_type": "code",
      "metadata": {
        "colab": {
          "base_uri": "https://localhost:8080/"
        },
        "id": "R2vg1NO2ldjM",
        "outputId": "b8acbab3-e417-4262-ccbd-d67ad8077ce7"
      },
      "source": [
        "# Imprimimos la información actualizada del dataframe\r\n",
        "df_trabajo1.info()\r\n",
        "print(df_trabajo1.head())"
      ],
      "execution_count": 12,
      "outputs": [
        {
          "output_type": "stream",
          "text": [
            "<class 'pandas.core.frame.DataFrame'>\n",
            "RangeIndex: 11794 entries, 0 to 11793\n",
            "Data columns (total 5 columns):\n",
            " #   Column  Non-Null Count  Dtype  \n",
            "---  ------  --------------  -----  \n",
            " 0   Fecha   11794 non-null  object \n",
            " 1   Precip  11775 non-null  float64\n",
            " 2   Evap    2374 non-null   float64\n",
            " 3   Tmax    10788 non-null  float64\n",
            " 4   Tmin    10767 non-null  float64\n",
            "dtypes: float64(4), object(1)\n",
            "memory usage: 460.8+ KB\n",
            "        Fecha  Precip  Evap  Tmax  Tmin\n",
            "0  01/07/1975     8.5   8.6  36.0  25.0\n",
            "1  02/07/1975     5.8   5.8  36.0  24.0\n",
            "2  03/07/1975     0.0   9.8  35.0  23.0\n",
            "3  04/07/1975     0.0  10.4  36.0  25.0\n",
            "4  05/07/1975     0.0   6.6  37.0  26.0\n"
          ],
          "name": "stdout"
        }
      ]
    },
    {
      "cell_type": "markdown",
      "metadata": {
        "id": "18ox6nCDuF-U"
      },
      "source": [
        "* Se puede contabilizar el número de datos faltantes en esas variables mediante la función: df.isnull().sum()"
      ]
    },
    {
      "cell_type": "code",
      "metadata": {
        "colab": {
          "base_uri": "https://localhost:8080/"
        },
        "id": "FYHrMxb_uK7j",
        "outputId": "9c100145-ee56-4a55-e42a-5d762fea9b67"
      },
      "source": [
        "# De la instrucción anterior, vemos que hay valores faltantes. Sumamos los valores nulos. \r\n",
        "df_trabajo1.isnull().sum()"
      ],
      "execution_count": 13,
      "outputs": [
        {
          "output_type": "execute_result",
          "data": {
            "text/plain": [
              "Fecha        0\n",
              "Precip      19\n",
              "Evap      9420\n",
              "Tmax      1006\n",
              "Tmin      1027\n",
              "dtype: int64"
            ]
          },
          "metadata": {
            "tags": []
          },
          "execution_count": 13
        }
      ]
    },
    {
      "cell_type": "markdown",
      "metadata": {
        "id": "Kzj71pZOq_Z2"
      },
      "source": [
        "* Imprime de nuevo el encabezado y final de tu dataframe, con las funciones df.head() y df.tail()"
      ]
    },
    {
      "cell_type": "code",
      "metadata": {
        "colab": {
          "base_uri": "https://localhost:8080/"
        },
        "id": "RYD_9RXzq6FO",
        "outputId": "6f85d5e3-869a-4f6e-b412-3e77a68c6f70"
      },
      "source": [
        "print(df_trabajo1.head())\r\n",
        "print(df_trabajo1.tail())"
      ],
      "execution_count": 14,
      "outputs": [
        {
          "output_type": "stream",
          "text": [
            "        Fecha  Precip  Evap  Tmax  Tmin\n",
            "0  01/07/1975     8.5   8.6  36.0  25.0\n",
            "1  02/07/1975     5.8   5.8  36.0  24.0\n",
            "2  03/07/1975     0.0   9.8  35.0  23.0\n",
            "3  04/07/1975     0.0  10.4  36.0  25.0\n",
            "4  05/07/1975     0.0   6.6  37.0  26.0\n",
            "            Fecha  Precip  Evap  Tmax  Tmin\n",
            "11789  26/04/2016     0.0   NaN  25.0   7.0\n",
            "11790  27/04/2016     0.0   NaN  27.0   3.0\n",
            "11791  28/04/2016     0.0   NaN  25.0  12.0\n",
            "11792  29/04/2016     0.0   NaN  25.0   4.0\n",
            "11793  30/04/2016     0.0   NaN   NaN   5.0\n"
          ],
          "name": "stdout"
        }
      ]
    },
    {
      "cell_type": "markdown",
      "metadata": {
        "id": "fPnSVQDvwoT7"
      },
      "source": [
        "* Realiza una estadística básica de las variables numéricas de tu dataframe usando la función: df.describe() y haz una interpretación de los resultados, para ver si tienen sentido físico (por ej. valores negativos de precipitación, valores extremos fuera de lo normal, etc)"
      ]
    },
    {
      "cell_type": "code",
      "metadata": {
        "colab": {
          "base_uri": "https://localhost:8080/",
          "height": 287
        },
        "id": "sG2SBB0ErF40",
        "outputId": "28519799-5591-4251-c3b8-8493c6879460"
      },
      "source": [
        "# Un análisis estadístico breve de las variables numéricas redondeado a 2 cifras significativas\r\n",
        "df_trabajo1.describe().round(2)"
      ],
      "execution_count": 15,
      "outputs": [
        {
          "output_type": "execute_result",
          "data": {
            "text/html": [
              "<div>\n",
              "<style scoped>\n",
              "    .dataframe tbody tr th:only-of-type {\n",
              "        vertical-align: middle;\n",
              "    }\n",
              "\n",
              "    .dataframe tbody tr th {\n",
              "        vertical-align: top;\n",
              "    }\n",
              "\n",
              "    .dataframe thead th {\n",
              "        text-align: right;\n",
              "    }\n",
              "</style>\n",
              "<table border=\"1\" class=\"dataframe\">\n",
              "  <thead>\n",
              "    <tr style=\"text-align: right;\">\n",
              "      <th></th>\n",
              "      <th>Precip</th>\n",
              "      <th>Evap</th>\n",
              "      <th>Tmax</th>\n",
              "      <th>Tmin</th>\n",
              "    </tr>\n",
              "  </thead>\n",
              "  <tbody>\n",
              "    <tr>\n",
              "      <th>count</th>\n",
              "      <td>11775.00</td>\n",
              "      <td>2374.00</td>\n",
              "      <td>10788.00</td>\n",
              "      <td>10767.00</td>\n",
              "    </tr>\n",
              "    <tr>\n",
              "      <th>mean</th>\n",
              "      <td>0.84</td>\n",
              "      <td>6.49</td>\n",
              "      <td>25.87</td>\n",
              "      <td>7.80</td>\n",
              "    </tr>\n",
              "    <tr>\n",
              "      <th>std</th>\n",
              "      <td>3.95</td>\n",
              "      <td>3.60</td>\n",
              "      <td>8.47</td>\n",
              "      <td>7.47</td>\n",
              "    </tr>\n",
              "    <tr>\n",
              "      <th>min</th>\n",
              "      <td>0.00</td>\n",
              "      <td>0.10</td>\n",
              "      <td>1.00</td>\n",
              "      <td>-10.00</td>\n",
              "    </tr>\n",
              "    <tr>\n",
              "      <th>25%</th>\n",
              "      <td>0.00</td>\n",
              "      <td>3.60</td>\n",
              "      <td>20.00</td>\n",
              "      <td>2.00</td>\n",
              "    </tr>\n",
              "    <tr>\n",
              "      <th>50%</th>\n",
              "      <td>0.00</td>\n",
              "      <td>6.10</td>\n",
              "      <td>26.00</td>\n",
              "      <td>6.00</td>\n",
              "    </tr>\n",
              "    <tr>\n",
              "      <th>75%</th>\n",
              "      <td>0.00</td>\n",
              "      <td>9.00</td>\n",
              "      <td>32.00</td>\n",
              "      <td>14.00</td>\n",
              "    </tr>\n",
              "    <tr>\n",
              "      <th>max</th>\n",
              "      <td>93.00</td>\n",
              "      <td>18.00</td>\n",
              "      <td>48.00</td>\n",
              "      <td>29.00</td>\n",
              "    </tr>\n",
              "  </tbody>\n",
              "</table>\n",
              "</div>"
            ],
            "text/plain": [
              "         Precip     Evap      Tmax      Tmin\n",
              "count  11775.00  2374.00  10788.00  10767.00\n",
              "mean       0.84     6.49     25.87      7.80\n",
              "std        3.95     3.60      8.47      7.47\n",
              "min        0.00     0.10      1.00    -10.00\n",
              "25%        0.00     3.60     20.00      2.00\n",
              "50%        0.00     6.10     26.00      6.00\n",
              "75%        0.00     9.00     32.00     14.00\n",
              "max       93.00    18.00     48.00     29.00"
            ]
          },
          "metadata": {
            "tags": []
          },
          "execution_count": 15
        }
      ]
    },
    {
      "cell_type": "markdown",
      "metadata": {
        "id": "EdEcqwVJxVwy"
      },
      "source": [
        "### **Paso 4.** Análisis de la variable Fecha. Pandas maneja las variables tipo Fecha y Tiempo. Ofrece una serie de herramientas para su manipulación. Lo que sigue es convertir el objeto que se ha leído a una variable que Python comprenda.  "
      ]
    },
    {
      "cell_type": "markdown",
      "metadata": {
        "id": "qjUfGjNQL3WU"
      },
      "source": [
        "* Comienza haciendo una copia del dataframe del paso anterior, por si se requiere recuperar el nuevo dataframe, utilizando df:new=df.copy()\r\n"
      ]
    },
    {
      "cell_type": "code",
      "metadata": {
        "colab": {
          "base_uri": "https://localhost:8080/"
        },
        "id": "0FaWk-mRw5ek",
        "outputId": "f73406c1-b07c-40e2-afdc-8b762970b3b8"
      },
      "source": [
        "# Volvemos a hacer una pausa y definimos un nuevo dataframe por si hay que regresarse.\r\n",
        "df_trabajo2 = df_trabajo1.copy()\r\n",
        "df_trabajo2['Fecha'].head()"
      ],
      "execution_count": 16,
      "outputs": [
        {
          "output_type": "execute_result",
          "data": {
            "text/plain": [
              "0    01/07/1975\n",
              "1    02/07/1975\n",
              "2    03/07/1975\n",
              "3    04/07/1975\n",
              "4    05/07/1975\n",
              "Name: Fecha, dtype: object"
            ]
          },
          "metadata": {
            "tags": []
          },
          "execution_count": 16
        }
      ]
    },
    {
      "cell_type": "markdown",
      "metadata": {
        "id": "H7oQN0LFNdDc"
      },
      "source": [
        "* Utiliza la función de Pandas pd.to_datetime(), para convertir el objeto Fecha a formato de fecha que comprende Python.  Lee el manual de esa función e intenta la conversión. "
      ]
    },
    {
      "cell_type": "code",
      "metadata": {
        "id": "0mk9U5KMNUZw",
        "outputId": "ebcdf21f-da46-4e7b-a233-60110a0f00a0",
        "colab": {
          "base_uri": "https://localhost:8080/"
        }
      },
      "source": [
        "# Pandas tiene la función pd.to_datetime que convierte una cadena en tipo datetime64[ns]\r\n",
        "# Intentamos a ver si Python reconoce el formato en nuestro caso. \r\n",
        "# Agregamos la opción de que el primer dato es el día (dayfirst=True)\r\n",
        "df_trabajo2['Fecha']=pd.to_datetime(df_trabajo2['Fecha'], dayfirst=True).copy()\r\n",
        "print(df_trabajo1.head())"
      ],
      "execution_count": 18,
      "outputs": [
        {
          "output_type": "stream",
          "text": [
            "        Fecha  Precip  Evap  Tmax  Tmin\n",
            "0  01/07/1975     8.5   8.6  36.0  25.0\n",
            "1  02/07/1975     5.8   5.8  36.0  24.0\n",
            "2  03/07/1975     0.0   9.8  35.0  23.0\n",
            "3  04/07/1975     0.0  10.4  36.0  25.0\n",
            "4  05/07/1975     0.0   6.6  37.0  26.0\n"
          ],
          "name": "stdout"
        }
      ]
    },
    {
      "cell_type": "markdown",
      "metadata": {
        "id": "1nDFzX7xNqH4"
      },
      "source": [
        "* Después utiliza la función df.dtypes para verificar que todas las variables son del tipo deseado.  "
      ]
    },
    {
      "cell_type": "code",
      "metadata": {
        "id": "XHB5b_jMNizO",
        "outputId": "58942d3a-0d44-43aa-c7c2-20ef3250f005",
        "colab": {
          "base_uri": "https://localhost:8080/"
        }
      },
      "source": [
        "# Verificamos que cada variable (columna), sea del tipo que esperamos.\r\n",
        "# Observamos que la variable Fecha es de tipo 'datetime64[ns]'  \r\n",
        "df_trabajo2.dtypes"
      ],
      "execution_count": 19,
      "outputs": [
        {
          "output_type": "execute_result",
          "data": {
            "text/plain": [
              "Fecha     datetime64[ns]\n",
              "Precip           float64\n",
              "Evap             float64\n",
              "Tmax             float64\n",
              "Tmin             float64\n",
              "dtype: object"
            ]
          },
          "metadata": {
            "tags": []
          },
          "execution_count": 19
        }
      ]
    },
    {
      "cell_type": "markdown",
      "metadata": {
        "id": "vRr4KrLlNx-Z"
      },
      "source": [
        "* Enseguida con la ayuda de las funciones de Pandas df['Fecha'].dt.year y df['Fecha'].dt.month, crea dos columnas nuevas adicionales df['Año'] y df['Mes'].  "
      ]
    },
    {
      "cell_type": "code",
      "metadata": {
        "id": "byT_KAIHNt7J"
      },
      "source": [
        "# Buscamos ahora añadir dos columnas adicionales: df['Año'], df['Mes']\r\n",
        "# Usaremos la función .dt.year y .dt.month para extraer el Año y Mes de la Fecha\r\n",
        "df_trabajo2['Año'] = df_trabajo2['Fecha'].dt.year\r\n",
        "df_trabajo2['Mes'] = df_trabajo2['Fecha'].dt.month"
      ],
      "execution_count": 20,
      "outputs": []
    },
    {
      "cell_type": "markdown",
      "metadata": {
        "id": "mUpAeM4RN748"
      },
      "source": [
        "* Utilizando la función print aplicado a las funciones df.head() y df.tail(), verifica que el dataframe tiene la forma deseada."
      ]
    },
    {
      "cell_type": "code",
      "metadata": {
        "id": "5zmXYm9wN4wl",
        "outputId": "fafbc6a3-faa4-4d68-c18a-59a087623ec1",
        "colab": {
          "base_uri": "https://localhost:8080/"
        }
      },
      "source": [
        "# Verificamos que se hayan creado de forma correcta\r\n",
        "# Tendremos ahora dos columnas adicionales que podemos utilizar para filtrar información.\r\n",
        "print(df_trabajo2.head())\r\n",
        "print(df_trabajo2.tail())"
      ],
      "execution_count": 21,
      "outputs": [
        {
          "output_type": "stream",
          "text": [
            "       Fecha  Precip  Evap  Tmax  Tmin   Año  Mes\n",
            "0 1975-07-01     8.5   8.6  36.0  25.0  1975    7\n",
            "1 1975-07-02     5.8   5.8  36.0  24.0  1975    7\n",
            "2 1975-07-03     0.0   9.8  35.0  23.0  1975    7\n",
            "3 1975-07-04     0.0  10.4  36.0  25.0  1975    7\n",
            "4 1975-07-05     0.0   6.6  37.0  26.0  1975    7\n",
            "           Fecha  Precip  Evap  Tmax  Tmin   Año  Mes\n",
            "11789 2016-04-26     0.0   NaN  25.0   7.0  2016    4\n",
            "11790 2016-04-27     0.0   NaN  27.0   3.0  2016    4\n",
            "11791 2016-04-28     0.0   NaN  25.0  12.0  2016    4\n",
            "11792 2016-04-29     0.0   NaN  25.0   4.0  2016    4\n",
            "11793 2016-04-30     0.0   NaN   NaN   5.0  2016    4\n"
          ],
          "name": "stdout"
        }
      ]
    },
    {
      "cell_type": "markdown",
      "metadata": {
        "id": "lYNVuM__ODkr"
      },
      "source": [
        "* Y complementa con la función df.dtypes, para verificar que todas las variables son del tipo adecuado.  "
      ]
    },
    {
      "cell_type": "code",
      "metadata": {
        "id": "6knstFuWN_fH",
        "outputId": "f6b5ca31-9b59-464f-ca74-b7b678a4ea13",
        "colab": {
          "base_uri": "https://localhost:8080/"
        }
      },
      "source": [
        "# Verificamos que Año y Mes son variables enteras.\r\n",
        "# Hasta aquí llegaremos esta semana. \r\n",
        "df_trabajo2.info()"
      ],
      "execution_count": 22,
      "outputs": [
        {
          "output_type": "stream",
          "text": [
            "<class 'pandas.core.frame.DataFrame'>\n",
            "RangeIndex: 11794 entries, 0 to 11793\n",
            "Data columns (total 7 columns):\n",
            " #   Column  Non-Null Count  Dtype         \n",
            "---  ------  --------------  -----         \n",
            " 0   Fecha   11794 non-null  datetime64[ns]\n",
            " 1   Precip  11775 non-null  float64       \n",
            " 2   Evap    2374 non-null   float64       \n",
            " 3   Tmax    10788 non-null  float64       \n",
            " 4   Tmin    10767 non-null  float64       \n",
            " 5   Año     11794 non-null  int64         \n",
            " 6   Mes     11794 non-null  int64         \n",
            "dtypes: datetime64[ns](1), float64(4), int64(2)\n",
            "memory usage: 645.1 KB\n"
          ],
          "name": "stdout"
        }
      ]
    },
    {
      "cell_type": "code",
      "metadata": {
        "id": "v7NC2TVTOH4H"
      },
      "source": [
        ""
      ],
      "execution_count": null,
      "outputs": []
    }
  ]
}