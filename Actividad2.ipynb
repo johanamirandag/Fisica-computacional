{
  "nbformat": 4,
  "nbformat_minor": 0,
  "metadata": {
    "colab": {
      "name": "Actividad2.ipynb",
      "provenance": [],
      "collapsed_sections": [],
      "authorship_tag": "ABX9TyMtdJh38kjLm0NVoFMaCQbU",
      "include_colab_link": true
    },
    "kernelspec": {
      "name": "python3",
      "display_name": "Python 3"
    }
  },
  "cells": [
    {
      "cell_type": "markdown",
      "metadata": {
        "id": "view-in-github",
        "colab_type": "text"
      },
      "source": [
        "<a href=\"https://colab.research.google.com/github/johanamirandag/Fisica-computacional/blob/main/Actividad2.ipynb\" target=\"_parent\"><img src=\"https://colab.research.google.com/assets/colab-badge.svg\" alt=\"Open In Colab\"/></a>"
      ]
    },
    {
      "cell_type": "markdown",
      "metadata": {
        "id": "xkiKJ_Id42mK"
      },
      "source": [
        "### Se proporciona el siguiente programa para calcular el área de un rectángulo: \r\n",
        "\r\n"
      ]
    },
    {
      "cell_type": "code",
      "metadata": {
        "id": "PRG9XkFf5Aww"
      },
      "source": [
        "#Aqui ingresamos las bibliotecas\r\n",
        "import numpy as np"
      ],
      "execution_count": null,
      "outputs": []
    },
    {
      "cell_type": "code",
      "metadata": {
        "colab": {
          "base_uri": "https://localhost:8080/"
        },
        "id": "uXZoN1Rk5S9k",
        "outputId": "5b2d9fd6-28c7-4d37-b459-d3f8a2bf996d"
      },
      "source": [
        "# Se define una función de 2 variables para calcular el área.  \r\n",
        "def area(x, y):\r\n",
        "    return x*y\r\n",
        "\r\n",
        "print(\"Proporciona el largo y altura del rectángulo: \", end=\"\")\r\n",
        "l = float(input())\r\n",
        "h = float(input())\r\n",
        "a = area(l, h)\r\n",
        "# Imprime el valor del área en formato libre.\r\n",
        "print(\"\\nArea = \", a)\r\n",
        "# Imprime el valor del área con 2 decimales. \r\n",
        "#print(\"\\nArea = {:.2f}\".format(a))"
      ],
      "execution_count": null,
      "outputs": [
        {
          "output_type": "stream",
          "text": [
            "Proporciona el largo y altura del rectángulo: 2\n",
            "3\n",
            "\n",
            "Area =  6.0\n"
          ],
          "name": "stdout"
        }
      ]
    },
    {
      "cell_type": "markdown",
      "metadata": {
        "id": "fe-oQ_z4I8_J"
      },
      "source": [
        "# **Ejercicio 1**"
      ]
    },
    {
      "cell_type": "markdown",
      "metadata": {
        "id": "uvxdaTQs962m"
      },
      "source": [
        "#Usando este ejemplo, modifícalo para calcular:\r\n",
        "\r\n",
        "\r\n",
        "*   Área de un círculo y una elipse.\r\n",
        "*   Volumen de una esfera y el de un cilindro circular.\r\n",
        "\r\n"
      ]
    },
    {
      "cell_type": "markdown",
      "metadata": {
        "id": "q716Lt42-60l"
      },
      "source": [
        "### **Se calculará el área de un círculo el cual sería**\r\n",
        "$$A_{circulo}=\\pi\\cdot r^2$$"
      ]
    },
    {
      "cell_type": "code",
      "metadata": {
        "colab": {
          "base_uri": "https://localhost:8080/"
        },
        "id": "wZgxHtJn-1J5",
        "outputId": "18576a79-e2fe-41dd-8926-63630edb45fb"
      },
      "source": [
        "# Se define una función de 1 variable para calcular el área del círculo.  \r\n",
        "def area(x):\r\n",
        "    return np.pi*x**2\r\n",
        "\r\n",
        "print(\"Proporciona el radio del círculo: \", end=\"\")\r\n",
        "r = float(input())\r\n",
        "a = area(r)\r\n",
        "# Imprime el valor del área en formato libre.\r\n",
        "print(\"\\nArea = \", a)\r\n",
        "# Imprime el valor del área con 2 decimales. \r\n",
        "#print(\"\\nArea = {:.2f}\".format(a))"
      ],
      "execution_count": null,
      "outputs": [
        {
          "output_type": "stream",
          "text": [
            "Proporciona el radio del círculo: 2\n",
            "\n",
            "Area =  12.566370614359172\n"
          ],
          "name": "stdout"
        }
      ]
    },
    {
      "cell_type": "markdown",
      "metadata": {
        "id": "ogzmsrNHAj52"
      },
      "source": [
        "### **Se calculará el área de una elipse el cual sería**\r\n",
        "$$A_{elipse}=\\pi\\cdot a\\cdot b$$"
      ]
    },
    {
      "cell_type": "code",
      "metadata": {
        "colab": {
          "base_uri": "https://localhost:8080/"
        },
        "id": "2K9Xt_gtAe3X",
        "outputId": "09859469-0a16-4425-a6e1-1937a448ac4d"
      },
      "source": [
        "# Se define una función de 2 variables para calcular el área de la elipse.  \r\n",
        "def area(x, y):\r\n",
        "    return np.pi*x*y\r\n",
        "\r\n",
        "print(\"Proporciona el semieje mayor y menor de la elipse: \", end=\"\")\r\n",
        "b = float(input())\r\n",
        "c = float(input())\r\n",
        "a = area(b,c)\r\n",
        "# Imprime el valor del área en formato libre.\r\n",
        "print(\"\\nArea = \", a)\r\n",
        "# Imprime el valor del área con 2 decimales. \r\n",
        "#print(\"\\nArea = {:.2f}\".format(a))"
      ],
      "execution_count": null,
      "outputs": [
        {
          "output_type": "stream",
          "text": [
            "Proporciona el semieje mayor y menor de la elipse: 2\n",
            "3\n",
            "\n",
            "Area =  18.84955592153876\n"
          ],
          "name": "stdout"
        }
      ]
    },
    {
      "cell_type": "markdown",
      "metadata": {
        "id": "IJdhfAv7BhBw"
      },
      "source": [
        "### **Se calculará el volumen de una esfera el cual sería**\r\n",
        "$$V_{cilindro}=\\pi\\cdot r^2\\cdot h$$"
      ]
    },
    {
      "cell_type": "code",
      "metadata": {
        "colab": {
          "base_uri": "https://localhost:8080/"
        },
        "id": "U1OdPANABxEA",
        "outputId": "894ec371-7a3a-48b8-c6d9-f22bfff5c4a0"
      },
      "source": [
        "# Se define una función de 2 variable para calcular el volumen de una cilindro circular.\r\n",
        "def volumen(x,y):\r\n",
        "    return np.pi*x**2*y\r\n",
        "\r\n",
        "print(\"Proporciona el radio de la esfera:\", end=\"\")\r\n",
        "r = float(input())\r\n",
        "h = float(input())\r\n",
        "v = volumen(r,h)\r\n",
        "# Imprime el valor del volumen en formato libre.\r\n",
        "print(\"\\nVolumen = \", v)\r\n",
        "# Imprime el valor del volumen con 2 decimales. \r\n",
        "#print(\"\\nVolumen = {:.2f}\".format(a))"
      ],
      "execution_count": null,
      "outputs": [
        {
          "output_type": "stream",
          "text": [
            "Proporciona el radio de la esfera:2\n",
            "4\n",
            "\n",
            "Volumen =  50.26548245743669\n"
          ],
          "name": "stdout"
        }
      ]
    },
    {
      "cell_type": "markdown",
      "metadata": {
        "id": "-QdOlDM9ZiLB"
      },
      "source": [
        "# **Ejercicio 2**"
      ]
    },
    {
      "cell_type": "markdown",
      "metadata": {
        "id": "TAxzMpWaZxBC"
      },
      "source": [
        "### Desarrollar un programa en Python que calcule las raíces de una ecuación cuadrática. "
      ]
    },
    {
      "cell_type": "markdown",
      "metadata": {
        "id": "eIpjzWviaP7b"
      },
      "source": [
        "Una ecuación cuadrática se puede escribir como $ax^2+bx+c=0$, encontraremos sus raíces con la fórmula general:\r\n",
        "$$x=\\frac{-b\\pm\\sqrt{b^2-4ac}}{2a}$$"
      ]
    },
    {
      "cell_type": "code",
      "metadata": {
        "colab": {
          "base_uri": "https://localhost:8080/"
        },
        "id": "10sty_xmakDr",
        "outputId": "42857709-8a06-41af-ab3f-79765fa54a74"
      },
      "source": [
        "# Se define una función de 3 variable para calcular las raíces de una ecuación cuadrática.\r\n",
        "\r\n",
        "print(\"Proporciona el coeficiente que acompaña el valor cuadrático:\", end=\"\")\r\n",
        "a = float(input())\r\n",
        "print(\"Proporciona el coeficiente que acompaña el valor lineal:\", end=\"\")\r\n",
        "b = float(input())\r\n",
        "print(\"Proporciona el término independiente:\", end=\"\")\r\n",
        "c = float(input())\r\n",
        "\r\n",
        "if (b**2-4*a*c) < 0 :\r\n",
        "  print(\"Las raíces de la ecuación cuadrática son números complejos.\")\r\n",
        "else:\r\n",
        "  x1 = (-b+np.sqrt(b**2-4*a*c))/(2*a)\r\n",
        "  x2 = (-b-np.sqrt(b**2-4*a*c))/(2*a)\r\n",
        "# Imprime el valor de las raíces en formato libre.\r\n",
        "  print(\"\\nRaíz 1 = \", x1)\r\n",
        "  print(\"\\nRaíz 2 = \", x2)"
      ],
      "execution_count": null,
      "outputs": [
        {
          "output_type": "stream",
          "text": [
            "Proporciona el coeficiente que acompaña el valor cuadrático:2\n",
            "Proporciona el coeficiente que acompaña el valor lineal:6\n",
            "Proporciona el término independiente:-1\n",
            "\n",
            "Raíz 1 =  0.1583123951776999\n",
            "\n",
            "Raíz 2 =  -3.1583123951777\n"
          ],
          "name": "stdout"
        }
      ]
    },
    {
      "cell_type": "markdown",
      "metadata": {
        "id": "bZSW6M6R-QUL"
      },
      "source": [
        "# **Ejercicio 3**"
      ]
    },
    {
      "cell_type": "markdown",
      "metadata": {
        "id": "NzZWDINq-XX7"
      },
      "source": [
        "### Implementar el método Babilonio (o Método de Herón), para calcular la raíz cuadrada de un número S, cuando la sucesión converja con un error menor a 0.01. Compare con el valor obtenido por el método Babilonio con el valor de la función np.sqrt(S)."
      ]
    },
    {
      "cell_type": "markdown",
      "metadata": {
        "id": "SEJpxelW-wZ_"
      },
      "source": [
        "$$x_0\\approx \\sqrt{S}$$"
      ]
    },
    {
      "cell_type": "markdown",
      "metadata": {
        "id": "JZzH_OFbbNTZ"
      },
      "source": [
        "$$x_{n+1}=\\frac{1}{2}\\left( x_n+\\frac{S}{x_n}\\right)$$"
      ]
    },
    {
      "cell_type": "markdown",
      "metadata": {
        "id": "Xdzu2t9UbPW-"
      },
      "source": [
        "$$\\sqrt{S}=\\lim\\limits_{n\\rightarrow\\infty}x_n$$"
      ]
    },
    {
      "cell_type": "code",
      "metadata": {
        "colab": {
          "base_uri": "https://localhost:8080/"
        },
        "id": "kf6GW1sP-4BS",
        "outputId": "9d9eeffe-3584-4ff5-8b62-f747d8e2eb89"
      },
      "source": [
        "# Se define una función de 2 variable para calcular la raíz de un número S.\r\n",
        "\r\n",
        "print(\"Proporciona el número S al que le calcularás su raíz cuadrada:\", end=\"\")\r\n",
        "S = float(input())\r\n",
        "print(\"Proporciona el número x0 que es el aproximado a la raíz cuadrada de S:\", end=\"\")\r\n",
        "x0 = float(input())\r\n",
        "\r\n",
        "for i in range(1000): #comienza en 0 e incrementa 1\r\n",
        "  if abs(x0-np.sqrt(S)) < 0.01:\r\n",
        "    print(\"La aproximacipon a la raíz cuadrada del número\", S,\"es igual a\", x0)\r\n",
        "    break\r\n",
        "  else:\r\n",
        "    xi=(x0+S/x0)/2\r\n",
        "    x0=xi"
      ],
      "execution_count": null,
      "outputs": [
        {
          "output_type": "stream",
          "text": [
            "Proporciona el número S al que le calcularás su raíz cuadrada:15829\n",
            "Proporciona el número x0 que es el aproximado a la raíz cuadrada de S:126\n",
            "La aproximacipon a la raíz cuadrada del número 15829.0 es igual a 125.81349206349206\n"
          ],
          "name": "stdout"
        }
      ]
    },
    {
      "cell_type": "code",
      "metadata": {
        "id": "53IL5QW3JhXd"
      },
      "source": [
        ""
      ],
      "execution_count": null,
      "outputs": []
    }
  ]
}