{
  "nbformat": 4,
  "nbformat_minor": 0,
  "metadata": {
    "colab": {
      "name": "Actividad3.ipynb",
      "provenance": [],
      "authorship_tag": "ABX9TyPVJFAc1cODM5o6AgIFUt8I",
      "include_colab_link": true
    },
    "kernelspec": {
      "name": "python3",
      "display_name": "Python 3"
    }
  },
  "cells": [
    {
      "cell_type": "markdown",
      "metadata": {
        "id": "view-in-github",
        "colab_type": "text"
      },
      "source": [
        "<a href=\"https://colab.research.google.com/github/johanamirandag/Fisica-computacional/blob/main/Actividad3.ipynb\" target=\"_parent\"><img src=\"https://colab.research.google.com/assets/colab-badge.svg\" alt=\"Open In Colab\"/></a>"
      ]
    },
    {
      "cell_type": "code",
      "metadata": {
        "id": "FnAk6Jcy0ThP"
      },
      "source": [
        "#Aqui ingresamos las bibliotecas\r\n",
        "import numpy as np\r\n",
        "import pandas as pd"
      ],
      "execution_count": 1,
      "outputs": []
    },
    {
      "cell_type": "markdown",
      "metadata": {
        "id": "iiMwMtZ-Gtnp"
      },
      "source": [
        "## **Actividad 3**"
      ]
    },
    {
      "cell_type": "markdown",
      "metadata": {
        "id": "0aQauJ-UscmC"
      },
      "source": [
        "### **Paso 1.** Abre un nuevo cuaderno de trabajo Jupyter en Google Colab, llamado Actividad3. Carga las bibliotecas Numpy y Pandas. Enseguida define un nuevo DataFrame df con la ayuda de la función de Pandas pd.read_csv, leyendo el archivo csv con los datos climatológicos de la estación meteorológica que has seleccionado para estas actividades y que has almacenado en tu repositorio en Github."
      ]
    },
    {
      "cell_type": "code",
      "metadata": {
        "id": "a9I8R3D8FSSG"
      },
      "source": [
        "# Tomar la dirección URL del archivo en formato 'raw'\r\n",
        "url = 'https://raw.githubusercontent.com/johanamirandag/Fisica-computacional/main/Actividad1/AguaPrieta26192.txt'\r\n",
        "\r\n",
        "# Definimos los nombres de las columnas\r\n",
        "# El archivo tiene códigos ASCII extendido (Español), encoding='cp1251' Windows (Europa Occidental)\r\n",
        "# El separador de datos es de uno o más espacios, sep='\\s+'\r\n",
        "# Se brincará los primeros 19 renglones y el último, afirmamos que no nay encabezado\r\n",
        "# Se procesan los datos utilizando Python, engine='python' \r\n",
        "my_cols = ['Fecha', 'Precip', 'Evap', 'Tmax', 'Tmin']\r\n",
        "df_distribucion = pd.read_csv(url, names=my_cols, encoding='cp1251', sep='\\s+', header=None, skiprows=19, skipfooter=1, engine='python')"
      ],
      "execution_count": 2,
      "outputs": []
    },
    {
      "cell_type": "markdown",
      "metadata": {
        "id": "YYGlqqtesifN"
      },
      "source": [
        "### **Paso 2.** Una vez que hayas leído tu archivo de datos, usa la función df.head(n) y df.tail(n), y estudia la estructura de tu archivo, para determinar que renglones trae la información de los nombres de las columnas y en qué número de renglón comienzan los datos. Lo que buscamos es quedarnos con un DataFrame con los nombres de las columnas en el primer renglón y el resto de renglones serán sólo datos diarios de la estación meteorológica. "
      ]
    },
    {
      "cell_type": "code",
      "metadata": {
        "id": "pHB0GEVOs-YQ",
        "outputId": "54743ede-e6fa-4bc1-a60c-7f37fa1f8873",
        "colab": {
          "base_uri": "https://localhost:8080/"
        }
      },
      "source": [
        "# Revisamos el encabezado y el final del dataframe\r\n",
        "print(df_distribucion.head())\r\n",
        "print(df_distribucion.tail())"
      ],
      "execution_count": 3,
      "outputs": [
        {
          "output_type": "stream",
          "text": [
            "        Fecha Precip  Evap Tmax Tmin\n",
            "0  01/07/1975    8.5   8.6   36   25\n",
            "1  02/07/1975    5.8   5.8   36   24\n",
            "2  03/07/1975      0   9.8   35   23\n",
            "3  04/07/1975      0  10.4   36   25\n",
            "4  05/07/1975      0   6.6   37   26\n",
            "            Fecha Precip  Evap  Tmax Tmin\n",
            "11789  26/04/2016      0  Nulo    25    7\n",
            "11790  27/04/2016      0  Nulo    27    3\n",
            "11791  28/04/2016      0  Nulo    25   12\n",
            "11792  29/04/2016      0  Nulo    25    4\n",
            "11793  30/04/2016      0  Nulo  Nulo    5\n"
          ],
          "name": "stdout"
        }
      ]
    },
    {
      "cell_type": "markdown",
      "metadata": {
        "id": "Ch1UGR40F0xb"
      },
      "source": [
        "### **Paso 3.** Enseguida se pide explorar el dataframe recién cargado a la memoria. Para esto, se pide hacer una bitácora anotando o agregando un comentario de las acciones desarrolladas."
      ]
    },
    {
      "cell_type": "markdown",
      "metadata": {
        "id": "hyCOpwOmGCFr"
      },
      "source": [
        "*   Imprime el encabezado y final del dataframe:\r\n",
        "\r\n"
      ]
    },
    {
      "cell_type": "code",
      "metadata": {
        "colab": {
          "base_uri": "https://localhost:8080/"
        },
        "id": "asTaTjPgCxl5",
        "outputId": "81049332-84c6-4774-8acf-3ec7d00e182e"
      },
      "source": [
        "# Revisamos el encabezado y el final del dataframe\r\n",
        "print(df_distribucion.head(10))\r\n",
        "print(df_distribucion.tail(10))"
      ],
      "execution_count": 5,
      "outputs": [
        {
          "output_type": "stream",
          "text": [
            "        Fecha Precip  Evap Tmax Tmin\n",
            "0  01/07/1975    8.5   8.6   36   25\n",
            "1  02/07/1975    5.8   5.8   36   24\n",
            "2  03/07/1975      0   9.8   35   23\n",
            "3  04/07/1975      0  10.4   36   25\n",
            "4  05/07/1975      0   6.6   37   26\n",
            "5  06/07/1975    1.1   8.8   34   24\n",
            "6  07/07/1975      0   5.9   35   24\n",
            "7  08/07/1975      0  10.7   37   24\n",
            "8  09/07/1975    1.5  10.5   37   25\n",
            "9  10/07/1975      0  10.7   37   24\n",
            "            Fecha Precip  Evap  Tmax Tmin\n",
            "11784  21/04/2016      0  Nulo    32    4\n",
            "11785  22/04/2016      0  Nulo    33    7\n",
            "11786  23/04/2016      0  Nulo    30    9\n",
            "11787  24/04/2016      0  Nulo    28    9\n",
            "11788  25/04/2016      0  Nulo    29    8\n",
            "11789  26/04/2016      0  Nulo    25    7\n",
            "11790  27/04/2016      0  Nulo    27    3\n",
            "11791  28/04/2016      0  Nulo    25   12\n",
            "11792  29/04/2016      0  Nulo    25    4\n",
            "11793  30/04/2016      0  Nulo  Nulo    5\n"
          ],
          "name": "stdout"
        }
      ]
    },
    {
      "cell_type": "markdown",
      "metadata": {
        "id": "rsw92CfiGH0e"
      },
      "source": [
        "* ¿Qué dimensiones tiene tu dataframe?"
      ]
    },
    {
      "cell_type": "code",
      "metadata": {
        "colab": {
          "base_uri": "https://localhost:8080/"
        },
        "id": "BjF6FRvPC2Cf",
        "outputId": "347fa47d-e153-44bd-deec-7ee5711877b3"
      },
      "source": [
        "df_distribucion.shape"
      ],
      "execution_count": 6,
      "outputs": [
        {
          "output_type": "execute_result",
          "data": {
            "text/plain": [
              "(11794, 5)"
            ]
          },
          "metadata": {
            "tags": []
          },
          "execution_count": 6
        }
      ]
    },
    {
      "cell_type": "markdown",
      "metadata": {
        "id": "4U-WTkzhGSKO"
      },
      "source": [
        "* ¿Cómo es el contenido de tu dataframe?"
      ]
    },
    {
      "cell_type": "code",
      "metadata": {
        "id": "ZFeOemYfFOZd",
        "outputId": "9fbc3d85-bf4b-4f26-dd6f-504e7bb7fa94",
        "colab": {
          "base_uri": "https://localhost:8080/"
        }
      },
      "source": [
        "df_distribucion.info()"
      ],
      "execution_count": 7,
      "outputs": [
        {
          "output_type": "stream",
          "text": [
            "<class 'pandas.core.frame.DataFrame'>\n",
            "RangeIndex: 11794 entries, 0 to 11793\n",
            "Data columns (total 5 columns):\n",
            " #   Column  Non-Null Count  Dtype \n",
            "---  ------  --------------  ----- \n",
            " 0   Fecha   11794 non-null  object\n",
            " 1   Precip  11794 non-null  object\n",
            " 2   Evap    11794 non-null  object\n",
            " 3   Tmax    11794 non-null  object\n",
            " 4   Tmin    11794 non-null  object\n",
            "dtypes: object(5)\n",
            "memory usage: 460.8+ KB\n"
          ],
          "name": "stdout"
        }
      ]
    },
    {
      "cell_type": "code",
      "metadata": {
        "id": "LMFFJ3OyipfN",
        "outputId": "021cac4b-f75e-46f1-8315-827349ccfb9f",
        "colab": {
          "base_uri": "https://localhost:8080/",
          "height": 197
        }
      },
      "source": [
        "# Hacemos una copia de trabajo y preservamos el dataframe original\r\n",
        "df_trabajo0 = df_distribucion.copy()\r\n",
        "df_trabajo0.head()"
      ],
      "execution_count": 19,
      "outputs": [
        {
          "output_type": "execute_result",
          "data": {
            "text/html": [
              "<div>\n",
              "<style scoped>\n",
              "    .dataframe tbody tr th:only-of-type {\n",
              "        vertical-align: middle;\n",
              "    }\n",
              "\n",
              "    .dataframe tbody tr th {\n",
              "        vertical-align: top;\n",
              "    }\n",
              "\n",
              "    .dataframe thead th {\n",
              "        text-align: right;\n",
              "    }\n",
              "</style>\n",
              "<table border=\"1\" class=\"dataframe\">\n",
              "  <thead>\n",
              "    <tr style=\"text-align: right;\">\n",
              "      <th></th>\n",
              "      <th>Fecha</th>\n",
              "      <th>Precip</th>\n",
              "      <th>Evap</th>\n",
              "      <th>Tmax</th>\n",
              "      <th>Tmin</th>\n",
              "    </tr>\n",
              "  </thead>\n",
              "  <tbody>\n",
              "    <tr>\n",
              "      <th>0</th>\n",
              "      <td>01/07/1975</td>\n",
              "      <td>8.5</td>\n",
              "      <td>8.6</td>\n",
              "      <td>36</td>\n",
              "      <td>25</td>\n",
              "    </tr>\n",
              "    <tr>\n",
              "      <th>1</th>\n",
              "      <td>02/07/1975</td>\n",
              "      <td>5.8</td>\n",
              "      <td>5.8</td>\n",
              "      <td>36</td>\n",
              "      <td>24</td>\n",
              "    </tr>\n",
              "    <tr>\n",
              "      <th>2</th>\n",
              "      <td>03/07/1975</td>\n",
              "      <td>0</td>\n",
              "      <td>9.8</td>\n",
              "      <td>35</td>\n",
              "      <td>23</td>\n",
              "    </tr>\n",
              "    <tr>\n",
              "      <th>3</th>\n",
              "      <td>04/07/1975</td>\n",
              "      <td>0</td>\n",
              "      <td>10.4</td>\n",
              "      <td>36</td>\n",
              "      <td>25</td>\n",
              "    </tr>\n",
              "    <tr>\n",
              "      <th>4</th>\n",
              "      <td>05/07/1975</td>\n",
              "      <td>0</td>\n",
              "      <td>6.6</td>\n",
              "      <td>37</td>\n",
              "      <td>26</td>\n",
              "    </tr>\n",
              "  </tbody>\n",
              "</table>\n",
              "</div>"
            ],
            "text/plain": [
              "        Fecha Precip  Evap Tmax Tmin\n",
              "0  01/07/1975    8.5   8.6   36   25\n",
              "1  02/07/1975    5.8   5.8   36   24\n",
              "2  03/07/1975      0   9.8   35   23\n",
              "3  04/07/1975      0  10.4   36   25\n",
              "4  05/07/1975      0   6.6   37   26"
            ]
          },
          "metadata": {
            "tags": []
          },
          "execution_count": 19
        }
      ]
    },
    {
      "cell_type": "markdown",
      "metadata": {
        "id": "sIFSGT2EGlmb"
      },
      "source": [
        "* Los datos originales incluyen la cadena de caracteres 'Nulo', indicando que no hubo datos para esa variable, ese día. Tenemos que reemplazar la palabra nulo con la función: df.replace()"
      ]
    },
    {
      "cell_type": "code",
      "metadata": {
        "id": "8ZyB5j_2GXq0",
        "outputId": "933b678a-5928-4c1f-85ee-7e48b54393b8",
        "colab": {
          "base_uri": "https://localhost:8080/",
          "height": 197
        }
      },
      "source": [
        "# Reemplazamos los textos 'Nulo' por espacio en blanco ''\r\n",
        "str_Nulo = 'Nulo'\r\n",
        "df_trabajo1 = df_trabajo0.replace(to_replace=str_Nulo, value='', regex=True)\r\n",
        "# Puse los últimos rengoles por que en los primeros no había datos \"Nulos\"\r\n",
        "df_trabajo1.tail()"
      ],
      "execution_count": 17,
      "outputs": [
        {
          "output_type": "execute_result",
          "data": {
            "text/html": [
              "<div>\n",
              "<style scoped>\n",
              "    .dataframe tbody tr th:only-of-type {\n",
              "        vertical-align: middle;\n",
              "    }\n",
              "\n",
              "    .dataframe tbody tr th {\n",
              "        vertical-align: top;\n",
              "    }\n",
              "\n",
              "    .dataframe thead th {\n",
              "        text-align: right;\n",
              "    }\n",
              "</style>\n",
              "<table border=\"1\" class=\"dataframe\">\n",
              "  <thead>\n",
              "    <tr style=\"text-align: right;\">\n",
              "      <th></th>\n",
              "      <th>Fecha</th>\n",
              "      <th>Precip</th>\n",
              "      <th>Evap</th>\n",
              "      <th>Tmax</th>\n",
              "      <th>Tmin</th>\n",
              "    </tr>\n",
              "  </thead>\n",
              "  <tbody>\n",
              "    <tr>\n",
              "      <th>11789</th>\n",
              "      <td>26/04/2016</td>\n",
              "      <td>0</td>\n",
              "      <td></td>\n",
              "      <td>25</td>\n",
              "      <td>7</td>\n",
              "    </tr>\n",
              "    <tr>\n",
              "      <th>11790</th>\n",
              "      <td>27/04/2016</td>\n",
              "      <td>0</td>\n",
              "      <td></td>\n",
              "      <td>27</td>\n",
              "      <td>3</td>\n",
              "    </tr>\n",
              "    <tr>\n",
              "      <th>11791</th>\n",
              "      <td>28/04/2016</td>\n",
              "      <td>0</td>\n",
              "      <td></td>\n",
              "      <td>25</td>\n",
              "      <td>12</td>\n",
              "    </tr>\n",
              "    <tr>\n",
              "      <th>11792</th>\n",
              "      <td>29/04/2016</td>\n",
              "      <td>0</td>\n",
              "      <td></td>\n",
              "      <td>25</td>\n",
              "      <td>4</td>\n",
              "    </tr>\n",
              "    <tr>\n",
              "      <th>11793</th>\n",
              "      <td>30/04/2016</td>\n",
              "      <td>0</td>\n",
              "      <td></td>\n",
              "      <td></td>\n",
              "      <td>5</td>\n",
              "    </tr>\n",
              "  </tbody>\n",
              "</table>\n",
              "</div>"
            ],
            "text/plain": [
              "            Fecha Precip Evap Tmax Tmin\n",
              "11789  26/04/2016      0        25    7\n",
              "11790  27/04/2016      0        27    3\n",
              "11791  28/04/2016      0        25   12\n",
              "11792  29/04/2016      0        25    4\n",
              "11793  30/04/2016      0              5"
            ]
          },
          "metadata": {
            "tags": []
          },
          "execution_count": 17
        }
      ]
    },
    {
      "cell_type": "markdown",
      "metadata": {
        "id": "nmbSDpigqHko"
      },
      "source": [
        "* Después habrá que convertir a número flotante o numérico los datos de Precipitación, Evaporación, Temperatura Máxima y Temperatura mínima utilizando la función: df.to_numeric()"
      ]
    },
    {
      "cell_type": "code",
      "metadata": {
        "id": "cmpyHU8pqP0o",
        "outputId": "b26bda32-c0d1-409b-b462-e4bc6a082efd",
        "colab": {
          "base_uri": "https://localhost:8080/"
        }
      },
      "source": [
        "cols_list = ['Precip', 'Evap', 'Tmax', 'Tmin']\r\n",
        "for cols in cols_list:\r\n",
        "  df_trabajo1[cols] = pd.to_numeric(df_trabajo1[cols], errors='coerce')\r\n",
        "\r\n",
        "df_trabajo1.info()"
      ],
      "execution_count": 26,
      "outputs": [
        {
          "output_type": "stream",
          "text": [
            "<class 'pandas.core.frame.DataFrame'>\n",
            "RangeIndex: 11794 entries, 0 to 11793\n",
            "Data columns (total 5 columns):\n",
            " #   Column  Non-Null Count  Dtype  \n",
            "---  ------  --------------  -----  \n",
            " 0   Fecha   11794 non-null  object \n",
            " 1   Precip  11775 non-null  float64\n",
            " 2   Evap    2374 non-null   float64\n",
            " 3   Tmax    10788 non-null  float64\n",
            " 4   Tmin    10767 non-null  float64\n",
            "dtypes: float64(4), object(1)\n",
            "memory usage: 460.8+ KB\n"
          ],
          "name": "stdout"
        }
      ]
    },
    {
      "cell_type": "markdown",
      "metadata": {
        "id": "LYdhRT2Cpvr3"
      },
      "source": [
        "* Contrasta ahora la información de tu DataFrame con la función: df.info() "
      ]
    },
    {
      "cell_type": "code",
      "metadata": {
        "id": "R2vg1NO2ldjM",
        "outputId": "61bbd431-46a1-49c0-ed2a-d1f281330033",
        "colab": {
          "base_uri": "https://localhost:8080/"
        }
      },
      "source": [
        "# Imprimimos la información actualizada del dataframe\r\n",
        "df_trabajo1.info()\r\n",
        "print(df_trabajo1.head())"
      ],
      "execution_count": 27,
      "outputs": [
        {
          "output_type": "stream",
          "text": [
            "<class 'pandas.core.frame.DataFrame'>\n",
            "RangeIndex: 11794 entries, 0 to 11793\n",
            "Data columns (total 5 columns):\n",
            " #   Column  Non-Null Count  Dtype  \n",
            "---  ------  --------------  -----  \n",
            " 0   Fecha   11794 non-null  object \n",
            " 1   Precip  11775 non-null  float64\n",
            " 2   Evap    2374 non-null   float64\n",
            " 3   Tmax    10788 non-null  float64\n",
            " 4   Tmin    10767 non-null  float64\n",
            "dtypes: float64(4), object(1)\n",
            "memory usage: 460.8+ KB\n",
            "        Fecha  Precip  Evap  Tmax  Tmin\n",
            "0  01/07/1975     8.5   8.6  36.0  25.0\n",
            "1  02/07/1975     5.8   5.8  36.0  24.0\n",
            "2  03/07/1975     0.0   9.8  35.0  23.0\n",
            "3  04/07/1975     0.0  10.4  36.0  25.0\n",
            "4  05/07/1975     0.0   6.6  37.0  26.0\n"
          ],
          "name": "stdout"
        }
      ]
    },
    {
      "cell_type": "markdown",
      "metadata": {
        "id": "18ox6nCDuF-U"
      },
      "source": [
        "* Se puede contabilizar el número de datos faltantes en esas variables mediante la función: df.isnull().sum()"
      ]
    },
    {
      "cell_type": "code",
      "metadata": {
        "id": "FYHrMxb_uK7j",
        "outputId": "c2a8485d-cf74-40b4-c9a9-faec6d3e86eb",
        "colab": {
          "base_uri": "https://localhost:8080/"
        }
      },
      "source": [
        "# De la instrucción anterior, vemos que hay valores faltantes. Sumamos los valores nulos. \r\n",
        "df_trabajo1.isnull().sum()"
      ],
      "execution_count": 29,
      "outputs": [
        {
          "output_type": "execute_result",
          "data": {
            "text/plain": [
              "Fecha        0\n",
              "Precip      19\n",
              "Evap      9420\n",
              "Tmax      1006\n",
              "Tmin      1027\n",
              "dtype: int64"
            ]
          },
          "metadata": {
            "tags": []
          },
          "execution_count": 29
        }
      ]
    },
    {
      "cell_type": "markdown",
      "metadata": {
        "id": "Kzj71pZOq_Z2"
      },
      "source": [
        "* Imprime de nuevo el encabezado y final de tu dataframe, con las funciones df.head() y df.tail()"
      ]
    },
    {
      "cell_type": "code",
      "metadata": {
        "id": "RYD_9RXzq6FO",
        "outputId": "3ef9dfb8-fbf8-4874-d7fb-0826822d32a2",
        "colab": {
          "base_uri": "https://localhost:8080/"
        }
      },
      "source": [
        "print(df_trabajo1.head())\r\n",
        "print(df_trabajo1.tail())"
      ],
      "execution_count": 31,
      "outputs": [
        {
          "output_type": "stream",
          "text": [
            "        Fecha  Precip  Evap  Tmax  Tmin\n",
            "0  01/07/1975     8.5   8.6  36.0  25.0\n",
            "1  02/07/1975     5.8   5.8  36.0  24.0\n",
            "2  03/07/1975     0.0   9.8  35.0  23.0\n",
            "3  04/07/1975     0.0  10.4  36.0  25.0\n",
            "4  05/07/1975     0.0   6.6  37.0  26.0\n",
            "            Fecha  Precip  Evap  Tmax  Tmin\n",
            "11789  26/04/2016     0.0   NaN  25.0   7.0\n",
            "11790  27/04/2016     0.0   NaN  27.0   3.0\n",
            "11791  28/04/2016     0.0   NaN  25.0  12.0\n",
            "11792  29/04/2016     0.0   NaN  25.0   4.0\n",
            "11793  30/04/2016     0.0   NaN   NaN   5.0\n"
          ],
          "name": "stdout"
        }
      ]
    },
    {
      "cell_type": "markdown",
      "metadata": {
        "id": "fPnSVQDvwoT7"
      },
      "source": [
        "* Realiza una estadística básica de las variables numéricas de tu dataframe usando la función: df.describe() y haz una interpretación de los resultados, para ver si tienen sentido físico (por ej. valores negativos de precipitación, valores extremos fuera de lo normal, etc)"
      ]
    },
    {
      "cell_type": "code",
      "metadata": {
        "id": "sG2SBB0ErF40",
        "outputId": "0cd7e10e-c6ae-4ce6-e31f-7b840a4f09c2",
        "colab": {
          "base_uri": "https://localhost:8080/",
          "height": 287
        }
      },
      "source": [
        "\r\n",
        "# Un análisis estadístico breve de las variables numéricas redondeado a 2 cifras significativas\r\n",
        "df_trabajo1.describe().round(2)"
      ],
      "execution_count": 32,
      "outputs": [
        {
          "output_type": "execute_result",
          "data": {
            "text/html": [
              "<div>\n",
              "<style scoped>\n",
              "    .dataframe tbody tr th:only-of-type {\n",
              "        vertical-align: middle;\n",
              "    }\n",
              "\n",
              "    .dataframe tbody tr th {\n",
              "        vertical-align: top;\n",
              "    }\n",
              "\n",
              "    .dataframe thead th {\n",
              "        text-align: right;\n",
              "    }\n",
              "</style>\n",
              "<table border=\"1\" class=\"dataframe\">\n",
              "  <thead>\n",
              "    <tr style=\"text-align: right;\">\n",
              "      <th></th>\n",
              "      <th>Precip</th>\n",
              "      <th>Evap</th>\n",
              "      <th>Tmax</th>\n",
              "      <th>Tmin</th>\n",
              "    </tr>\n",
              "  </thead>\n",
              "  <tbody>\n",
              "    <tr>\n",
              "      <th>count</th>\n",
              "      <td>11775.00</td>\n",
              "      <td>2374.00</td>\n",
              "      <td>10788.00</td>\n",
              "      <td>10767.00</td>\n",
              "    </tr>\n",
              "    <tr>\n",
              "      <th>mean</th>\n",
              "      <td>0.84</td>\n",
              "      <td>6.49</td>\n",
              "      <td>25.87</td>\n",
              "      <td>7.80</td>\n",
              "    </tr>\n",
              "    <tr>\n",
              "      <th>std</th>\n",
              "      <td>3.95</td>\n",
              "      <td>3.60</td>\n",
              "      <td>8.47</td>\n",
              "      <td>7.47</td>\n",
              "    </tr>\n",
              "    <tr>\n",
              "      <th>min</th>\n",
              "      <td>0.00</td>\n",
              "      <td>0.10</td>\n",
              "      <td>1.00</td>\n",
              "      <td>-10.00</td>\n",
              "    </tr>\n",
              "    <tr>\n",
              "      <th>25%</th>\n",
              "      <td>0.00</td>\n",
              "      <td>3.60</td>\n",
              "      <td>20.00</td>\n",
              "      <td>2.00</td>\n",
              "    </tr>\n",
              "    <tr>\n",
              "      <th>50%</th>\n",
              "      <td>0.00</td>\n",
              "      <td>6.10</td>\n",
              "      <td>26.00</td>\n",
              "      <td>6.00</td>\n",
              "    </tr>\n",
              "    <tr>\n",
              "      <th>75%</th>\n",
              "      <td>0.00</td>\n",
              "      <td>9.00</td>\n",
              "      <td>32.00</td>\n",
              "      <td>14.00</td>\n",
              "    </tr>\n",
              "    <tr>\n",
              "      <th>max</th>\n",
              "      <td>93.00</td>\n",
              "      <td>18.00</td>\n",
              "      <td>48.00</td>\n",
              "      <td>29.00</td>\n",
              "    </tr>\n",
              "  </tbody>\n",
              "</table>\n",
              "</div>"
            ],
            "text/plain": [
              "         Precip     Evap      Tmax      Tmin\n",
              "count  11775.00  2374.00  10788.00  10767.00\n",
              "mean       0.84     6.49     25.87      7.80\n",
              "std        3.95     3.60      8.47      7.47\n",
              "min        0.00     0.10      1.00    -10.00\n",
              "25%        0.00     3.60     20.00      2.00\n",
              "50%        0.00     6.10     26.00      6.00\n",
              "75%        0.00     9.00     32.00     14.00\n",
              "max       93.00    18.00     48.00     29.00"
            ]
          },
          "metadata": {
            "tags": []
          },
          "execution_count": 32
        }
      ]
    },
    {
      "cell_type": "markdown",
      "metadata": {
        "id": "EdEcqwVJxVwy"
      },
      "source": [
        "### **Paso 4.** Análisis de la variable Fecha. Pandas maneja las variables tipo Fecha y Tiempo. Ofrece una serie de herramientas para su manipulación. Lo que sigue es convertir el objeto que se ha leído a una variable que Python comprenda.  "
      ]
    },
    {
      "cell_type": "code",
      "metadata": {
        "id": "0FaWk-mRw5ek"
      },
      "source": [
        ""
      ],
      "execution_count": null,
      "outputs": []
    }
  ]
}